{
 "cells": [
  {
   "cell_type": "code",
   "execution_count": 23,
   "id": "9dfeda25",
   "metadata": {},
   "outputs": [],
   "source": [
    "import pretty_midi\n",
    "import random\n",
    "import numpy as np\n"
   ]
  },
  {
   "cell_type": "code",
   "execution_count": 18,
   "id": "5b6a22e0",
   "metadata": {},
   "outputs": [],
   "source": [
    "circle_of_fifths_chords_major = {\n",
    "    \"C\":  [60, 64, 67],   # C major\n",
    "    \"G\":  [67, 71, 74],   # G major\n",
    "    \"D\":  [62, 66, 69],   # D major\n",
    "    \"A\":  [69, 73, 76],   # A major\n",
    "    \"E\":  [64, 68, 71],   # E major\n",
    "    \"B\":  [71, 75, 78],   # B major\n",
    "    \"F#\": [66, 70, 73],   # F# major\n",
    "    \"Db\": [61, 65, 68],   # Db major\n",
    "    \"Ab\": [68, 72, 75],   # Ab major\n",
    "    \"Eb\": [63, 67, 70],   # Eb major\n",
    "    \"Bb\": [70, 74, 77],   # Bb major\n",
    "    \"F\":  [65, 69, 72]    # F major\n",
    "}"
   ]
  },
  {
   "cell_type": "code",
   "execution_count": 19,
   "id": "4a6f236c",
   "metadata": {},
   "outputs": [],
   "source": [
    "circle_of_fifths_chords_minor = {    \n",
    "    \"Am\":  [69, 72, 76],\n",
    "    \"Em\":  [64, 67, 71],\n",
    "    \"Bm\":  [71, 74, 78],\n",
    "    \"F#m\": [66, 69, 73],\n",
    "    \"C#m\": [61, 64, 68],\n",
    "    \"G#m\": [68, 71, 75],\n",
    "    \"D#m\": [63, 66, 70],\n",
    "    \"Bbm\": [70, 73, 77],\n",
    "    \"Fm\":  [65, 68, 72],\n",
    "    \"Cm\":  [60, 63, 67],\n",
    "    \"Gm\":  [67, 70, 74],\n",
    "    \"Dm\":  [62, 65, 69]\n",
    "}"
   ]
  },
  {
   "cell_type": "code",
   "execution_count": 20,
   "id": "07f40467",
   "metadata": {},
   "outputs": [],
   "source": [
    "circle_of_fifth_total ={\n",
    "    \"C\":  [60, 64, 67],   # C major\n",
    "    \"G\":  [67, 71, 74],   # G major\n",
    "    \"D\":  [62, 66, 69],   # D major\n",
    "    \"A\":  [69, 73, 76],   # A major\n",
    "    \"E\":  [64, 68, 71],   # E major\n",
    "    \"B\":  [71, 75, 78],   # B major\n",
    "    \"F#\": [66, 70, 73],   # F# major\n",
    "    \"Db\": [61, 65, 68],   # Db major\n",
    "    \"Ab\": [68, 72, 75],   # Ab major\n",
    "    \"Eb\": [63, 67, 70],   # Eb major\n",
    "    \"Bb\": [70, 74, 77],   # Bb major\n",
    "    \"F\":  [65, 69, 72],    # F major\n",
    "    \"Am\":  [69, 72, 76],\n",
    "    \"Em\":  [64, 67, 71],\n",
    "    \"Bm\":  [71, 74, 78],\n",
    "    \"F#m\": [66, 69, 73],\n",
    "    \"C#m\": [61, 64, 68],\n",
    "    \"G#m\": [68, 71, 75],\n",
    "    \"D#m\": [63, 66, 70],\n",
    "    \"Bbm\": [70, 73, 77],\n",
    "    \"Fm\":  [65, 68, 72],\n",
    "    \"Cm\":  [60, 63, 67],\n",
    "    \"Gm\":  [67, 70, 74],\n",
    "    \"Dm\":  [62, 65, 69]\n",
    "\n",
    "}"
   ]
  },
  {
   "cell_type": "code",
   "execution_count": 176,
   "id": "c84ba9dd",
   "metadata": {},
   "outputs": [],
   "source": [
    "def generate_inversion(root_chord):\n",
    "    root, third, fifth = root_chord\n",
    "    return {\n",
    "        \"root\": [root, third, fifth],\n",
    "        \"1st\": [third, fifth, root +12],\n",
    "        \"2nd\": [fifth, root +12, third +12]\n",
    "\n",
    "    }\n",
    "\n",
    "circle_rules = {\n",
    "    \"C\":   [\"G\", \"F\", \"Am\", \"Cm\"],\n",
    "    \"G\":   [\"D\", \"C\", \"Em\", \"Gm\"],\n",
    "    \"D\":   [\"A\", \"G\", \"Bm\", \"Dm\"],\n",
    "    \"A\":   [\"E\", \"D\", \"F#m\", \"Am\"],\n",
    "    \"E\":   [\"B\", \"A\", \"C#m\", \"Em\"],\n",
    "    \"B\":   [\"F#\", \"E\", \"G#m\", \"Bm\"],\n",
    "    \"F#\":  [\"Db\", \"B\", \"D#m\", \"F#m\"],\n",
    "    \"Db\":  [\"Ab\", \"F#\", \"Bbm\", \"C#m\"],\n",
    "    \"Ab\":  [\"Eb\", \"Db\", \"Fm\", \"G#m\"],\n",
    "    \"Eb\":  [\"Bb\", \"Ab\", \"Cm\", \"D#m\"],\n",
    "    \"Bb\":  [\"F\", \"Eb\", \"Gm\", \"Bbm\"],\n",
    "    \"F\":   [\"C\", \"Bb\", \"Dm\", \"Fm\"],\n",
    "\n",
    "    \"Am\":  [\"Em\", \"Dm\", \"C\", \"A\"],\n",
    "    \"Em\":  [\"Bm\", \"Am\", \"G\", \"E\"],\n",
    "    \"Bm\":  [\"F#m\", \"Em\", \"D\", \"B\"],\n",
    "    \"F#m\": [\"C#m\", \"Bm\", \"A\", \"F#\"],\n",
    "    \"C#m\": [\"G#m\", \"F#m\", \"E\", \"C#\"],\n",
    "    \"G#m\": [\"D#m\", \"C#m\", \"B\", \"G#\"],\n",
    "    \"D#m\": [\"Bbm\", \"G#m\", \"F#\", \"D#\"],\n",
    "    \"Bbm\": [\"Fm\", \"D#m\", \"Db\", \"Bb\"],\n",
    "    \"Fm\":  [\"Cm\", \"Bbm\", \"Ab\", \"F\"],\n",
    "    \"Cm\":  [\"Gm\", \"Fm\", \"Eb\", \"C\"],\n",
    "    \"Gm\":  [\"Dm\", \"Cm\", \"Bb\", \"G\"],\n",
    "    \"Dm\":  [\"Am\", \"Gm\", \"F\", \"D\"]\n",
    "}\n",
    "\n",
    "circle_of_fifth_inversions = {\n",
    "    chord: generate_inversion(notes)\n",
    "    for chord, notes in circle_of_fifth_total.items()\n",
    "}"
   ]
  },
  {
   "cell_type": "code",
   "execution_count": 177,
   "id": "17235dd8",
   "metadata": {},
   "outputs": [],
   "source": [
    "def generate_circle_of_fifth(start_chord=None, num_chords = None, rules = circle_rules):\n",
    "    if start_chord is None:\n",
    "        start_chord = start_chord=random.choice(list(circle_rules.keys()))\n",
    "    if num_chords is None:\n",
    "        num_chords = np.random.randint(4,8)\n",
    "    \n",
    "    progression = [start_chord]\n",
    "    current = start_chord\n",
    "    for _ in range(num_chords - 1):\n",
    "        options = rules.get(current, [])\n",
    "        if not options:\n",
    "            break\n",
    "        next_chord = random.choice(options)\n",
    "        progression.append(next_chord)\n",
    "        current = next_chord\n",
    "    return progression\n"
   ]
  },
  {
   "cell_type": "code",
   "execution_count": 178,
   "id": "b2d1f3c2",
   "metadata": {},
   "outputs": [],
   "source": [
    "def write_progression_to_midi(\n",
    "    chord_progression,\n",
    "    chord_dict,\n",
    "    filename=\"generated_progression_with_bass.mid\",\n",
    "    duration=2.0,\n",
    "    velocity=None,\n",
    "    inversion=\"random\"\n",
    "):\n",
    "    if velocity is None:\n",
    "        velocity = int(np.random.randint(60, 85))\n",
    "\n",
    "    pm = pretty_midi.PrettyMIDI()\n",
    "    piano = pretty_midi.Instrument(program=0)  # Acoustic Grand Piano\n",
    "    current_time = 0.0\n",
    "    total_notes_written = 0\n",
    "\n",
    "    for chord in chord_progression:\n",
    "        if chord not in chord_dict:\n",
    "            print(f\"⚠️ Skipping unknown chord: {chord}\")\n",
    "            continue\n",
    "\n",
    "        inversions = chord_dict[chord]\n",
    "\n",
    "        # Select inversion\n",
    "        if inversion == \"random\":\n",
    "            notes = random.choice(list(inversions.values()))\n",
    "        else:\n",
    "            notes = inversions.get(inversion, inversions[\"root\"])\n",
    "\n",
    "        # Transpose all notes down by 12 semitones\n",
    "        lowered_notes = [p - 12 for p in notes if 21 <= (p - 12) <= 108]\n",
    "\n",
    "        # Add root note 2 octaves down, if it's in range\n",
    "        original_root = notes[0]\n",
    "        bass_note = original_root - 24\n",
    "        if 21 <= bass_note <= 108:\n",
    "            final_notes = [bass_note] + lowered_notes\n",
    "        else:\n",
    "            final_notes = lowered_notes\n",
    "\n",
    "        print(f\"🎼 {chord} → {final_notes}\")\n",
    "\n",
    "        for i, pitch in enumerate(final_notes):\n",
    "            is_bass = (i == 0 and pitch == bass_note)\n",
    "            note_velocity = random.randint(40, 60) if is_bass else random.randint(70, 100)\n",
    "\n",
    "            note = pretty_midi.Note(\n",
    "                velocity=note_velocity,\n",
    "                pitch=pitch,\n",
    "                start=current_time,\n",
    "                end=current_time + duration\n",
    "            )\n",
    "            piano.notes.append(note)\n",
    "            total_notes_written += 1\n",
    "\n",
    "        current_time += duration\n",
    "\n",
    "    pm.instruments.append(piano)\n",
    "    pm.write(filename)\n",
    "    print(f\"✅ MIDI file saved as: {filename}\")\n",
    "    print(f\"🎹 Total notes written: {total_notes_written}\")"
   ]
  },
  {
   "cell_type": "code",
   "execution_count": 181,
   "id": "fd27614a",
   "metadata": {},
   "outputs": [
    {
     "name": "stdout",
     "output_type": "stream",
     "text": [
      "['B', 'F#', 'Db', 'F#', 'F#m']\n"
     ]
    }
   ],
   "source": [
    "progression = generate_circle_of_fifth()\n",
    "print(progression)"
   ]
  },
  {
   "cell_type": "code",
   "execution_count": 182,
   "id": "a6d1481e",
   "metadata": {},
   "outputs": [
    {
     "name": "stdout",
     "output_type": "stream",
     "text": [
      "🎼 B → [47, 59, 63, 66]\n",
      "🎼 F# → [42, 54, 58, 61]\n",
      "🎼 Db → [44, 56, 61, 65]\n",
      "🎼 F# → [49, 61, 66, 70]\n",
      "🎼 F#m → [42, 54, 57, 61]\n",
      "✅ MIDI file saved as: wolfie_circle_inversions.mid\n",
      "🎹 Total notes written: 20\n"
     ]
    }
   ],
   "source": [
    "write_progression_to_midi(\n",
    "    progression,\n",
    "    circle_of_fifth_inversions,  # <-- correct position for chord_dict\n",
    "    filename=\"wolfie_circle_inversions.mid\",\n",
    "    inversion=\"random\"\n",
    ")"
   ]
  },
  {
   "cell_type": "code",
   "execution_count": null,
   "id": "b3c875cb",
   "metadata": {},
   "outputs": [],
   "source": []
  },
  {
   "cell_type": "code",
   "execution_count": null,
   "id": "721b36d5",
   "metadata": {},
   "outputs": [],
   "source": []
  }
 ],
 "metadata": {
  "kernelspec": {
   "display_name": "Python 3",
   "language": "python",
   "name": "python3"
  },
  "language_info": {
   "codemirror_mode": {
    "name": "ipython",
    "version": 3
   },
   "file_extension": ".py",
   "mimetype": "text/x-python",
   "name": "python",
   "nbconvert_exporter": "python",
   "pygments_lexer": "ipython3",
   "version": "3.9.21"
  }
 },
 "nbformat": 4,
 "nbformat_minor": 5
}
